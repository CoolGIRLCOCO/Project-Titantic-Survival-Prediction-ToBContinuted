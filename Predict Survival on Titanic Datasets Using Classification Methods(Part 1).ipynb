{
 "cells": [
  {
   "cell_type": "markdown",
   "metadata": {},
   "source": [
    "# Predict Survival on Titanic Datasets Using Classification Methods(Part 1)\n",
    "\n",
    "## Introduction\n",
    "One of the most famous shipwrecks in the history, the sinking of Titanic, is still often mentioned today. This great ship sank in the North Atlantic Ocean in the early morning of 15 April 1912, after it collided with an iceberg. This tragedy shocked the whole international community. There were more than 1500 people out of 2224 passengers and crew died in this tragedy. The RMS Titanic was the largest ship afloat at the time it entered service and was the second of three Olympic-class ocean liners operated by the White Star Line. The Titanic was built by the Harland and Wolff shipyard in Belfast. Thomas Andrews, her architect, died in the disaster.\n",
    "\n",
    "In this notebook, we aim to provide multiple classification machine learning methods on Titanic train data, to predict whether a passenger would be survived on Titanic or not on the test dataset. The Machine learning tools include: Naive Bayes, Support Vector Machine(SVM), K-Nearest Neighbour(KNN), Decision Tree Classifier, Random Forest Classifier, AdaBoost Classifier, Gradient Boosting Classifier, Logistic Regression with Regularization(Ridge & LASSO).\n",
    "\n",
    "\n",
    "## Part 1. Exploratory Data Analysis(EDA)\n",
    "\n",
    "In this section, we will do data preprocessing, including data wrangling, data visualization, feature engineering and missing value processing, to explore and summarize the main characteristics of the Titanic dataset.\n",
    "<img src = \"EDA.png\" width = 350>\n",
    "\n",
    "\n",
    "### 1.0 Load Packages\n",
    "We mainly use packages as follows:"
   ]
  },
  {
   "cell_type": "code",
   "execution_count": 47,
   "metadata": {},
   "outputs": [],
   "source": [
    "import numpy as np \n",
    "import pandas as pd\n",
    "from pandas import get_dummies\n",
    "import re\n",
    "import matplotlib.pyplot as plt\n",
    "import matplotlib\n",
    "import seaborn as sns\n",
    "from sklearn.cross_validation import train_test_split\n",
    "from sklearn.metrics import classification_report\n",
    "from sklearn.metrics import confusion_matrix\n",
    "from sklearn.metrics import accuracy_score\n",
    "from sklearn.linear_model import LogisticRegression\n",
    "from sklearn.svm import SVC, LinearSVC\n",
    "from sklearn.ensemble import RandomForestClassifier\n",
    "from sklearn.neighbors import KNeighborsClassifier\n",
    "from sklearn.naive_bayes import GaussianNB\n",
    "import warnings\n",
    "%matplotlib inline"
   ]
  },
  {
   "cell_type": "markdown",
   "metadata": {},
   "source": [
    "### 1.1 Import the Dataset and Do Data Wrangling\n",
    "To begin with, we first import the data, then apply function shape(), info() and isnull() to get a quick and dirty overview of the features. This step is a preparation for the feature engineering step, which can provide us some clues on the big picture of the project."
   ]
  },
  {
   "cell_type": "code",
   "execution_count": 48,
   "metadata": {},
   "outputs": [
    {
     "name": "stdout",
     "output_type": "stream",
     "text": [
      "Type of data:  <class 'pandas.core.frame.DataFrame'>\n",
      "------------------------------------------\n",
      "Dimension of train table:  (891, 12)\n",
      "Dimension of test table:  (418, 11)\n",
      "Dimension of gender_submission table:  (418, 2)\n",
      "------------------------------------------\n",
      "<class 'pandas.core.frame.DataFrame'>\n",
      "RangeIndex: 891 entries, 0 to 890\n",
      "Data columns (total 12 columns):\n",
      "PassengerId    891 non-null int64\n",
      "Survived       891 non-null int64\n",
      "Pclass         891 non-null int64\n",
      "Name           891 non-null object\n",
      "Sex            891 non-null object\n",
      "Age            714 non-null float64\n",
      "SibSp          891 non-null int64\n",
      "Parch          891 non-null int64\n",
      "Ticket         891 non-null object\n",
      "Fare           891 non-null float64\n",
      "Cabin          204 non-null object\n",
      "Embarked       889 non-null object\n",
      "dtypes: float64(2), int64(5), object(5)\n",
      "memory usage: 83.6+ KB\n",
      "train table summary:  None\n",
      "------------------------------------------\n",
      "<class 'pandas.core.frame.DataFrame'>\n",
      "RangeIndex: 418 entries, 0 to 417\n",
      "Data columns (total 11 columns):\n",
      "PassengerId    418 non-null int64\n",
      "Pclass         418 non-null int64\n",
      "Name           418 non-null object\n",
      "Sex            418 non-null object\n",
      "Age            332 non-null float64\n",
      "SibSp          418 non-null int64\n",
      "Parch          418 non-null int64\n",
      "Ticket         418 non-null object\n",
      "Fare           417 non-null float64\n",
      "Cabin          91 non-null object\n",
      "Embarked       418 non-null object\n",
      "dtypes: float64(2), int64(4), object(5)\n",
      "memory usage: 36.0+ KB\n",
      "test table summary:  None\n",
      "------------------------------------------\n",
      "<class 'pandas.core.frame.DataFrame'>\n",
      "RangeIndex: 418 entries, 0 to 417\n",
      "Data columns (total 2 columns):\n",
      "PassengerId    418 non-null int64\n",
      "Survived       418 non-null int64\n",
      "dtypes: int64(2)\n",
      "memory usage: 6.6 KB\n",
      "gender_submission table summary:  None\n"
     ]
    }
   ],
   "source": [
    "# Read the tables\n",
    "Data = pd.read_csv(\"TitanicData/train.csv\") \n",
    "Data_test = pd.read_csv(\"TitanicData/test.csv\") \n",
    "Data_test_survive = pd.read_csv(\"TitanicData/gender_submission.csv\") \n",
    "print('Type of data: ',type(Data))\n",
    "print('------------------------------------------')\n",
    "print('Dimension of train table: ',Data.shape)#891 x 12\n",
    "print('Dimension of test table: ',Data_test.shape)#418 x 11\n",
    "print('Dimension of gender_submission table: ',Data_test_survive.shape)#418 x 2\n",
    "print('------------------------------------------')\n",
    "print('train table summary: ',Data.info())\n",
    "print('------------------------------------------')\n",
    "print('test table summary: ',Data_test.info())\n",
    "print('------------------------------------------')\n",
    "print('gender_submission table summary: ',Data_test_survive.info())"
   ]
  },
  {
   "cell_type": "code",
   "execution_count": 49,
   "metadata": {
    "scrolled": true
   },
   "outputs": [
    {
     "data": {
      "text/html": [
       "<div>\n",
       "<style scoped>\n",
       "    .dataframe tbody tr th:only-of-type {\n",
       "        vertical-align: middle;\n",
       "    }\n",
       "\n",
       "    .dataframe tbody tr th {\n",
       "        vertical-align: top;\n",
       "    }\n",
       "\n",
       "    .dataframe thead th {\n",
       "        text-align: right;\n",
       "    }\n",
       "</style>\n",
       "<table border=\"1\" class=\"dataframe\">\n",
       "  <thead>\n",
       "    <tr style=\"text-align: right;\">\n",
       "      <th></th>\n",
       "      <th>PassengerId</th>\n",
       "      <th>Survived</th>\n",
       "      <th>Pclass</th>\n",
       "      <th>Name</th>\n",
       "      <th>Sex</th>\n",
       "      <th>Age</th>\n",
       "      <th>SibSp</th>\n",
       "      <th>Parch</th>\n",
       "      <th>Ticket</th>\n",
       "      <th>Fare</th>\n",
       "      <th>Cabin</th>\n",
       "      <th>Embarked</th>\n",
       "    </tr>\n",
       "  </thead>\n",
       "  <tbody>\n",
       "    <tr>\n",
       "      <th>0</th>\n",
       "      <td>1</td>\n",
       "      <td>0</td>\n",
       "      <td>3</td>\n",
       "      <td>Braund, Mr. Owen Harris</td>\n",
       "      <td>male</td>\n",
       "      <td>22.0</td>\n",
       "      <td>1</td>\n",
       "      <td>0</td>\n",
       "      <td>A/5 21171</td>\n",
       "      <td>7.2500</td>\n",
       "      <td>NaN</td>\n",
       "      <td>S</td>\n",
       "    </tr>\n",
       "    <tr>\n",
       "      <th>1</th>\n",
       "      <td>2</td>\n",
       "      <td>1</td>\n",
       "      <td>1</td>\n",
       "      <td>Cumings, Mrs. John Bradley (Florence Briggs Th...</td>\n",
       "      <td>female</td>\n",
       "      <td>38.0</td>\n",
       "      <td>1</td>\n",
       "      <td>0</td>\n",
       "      <td>PC 17599</td>\n",
       "      <td>71.2833</td>\n",
       "      <td>C85</td>\n",
       "      <td>C</td>\n",
       "    </tr>\n",
       "    <tr>\n",
       "      <th>2</th>\n",
       "      <td>3</td>\n",
       "      <td>1</td>\n",
       "      <td>3</td>\n",
       "      <td>Heikkinen, Miss. Laina</td>\n",
       "      <td>female</td>\n",
       "      <td>26.0</td>\n",
       "      <td>0</td>\n",
       "      <td>0</td>\n",
       "      <td>STON/O2. 3101282</td>\n",
       "      <td>7.9250</td>\n",
       "      <td>NaN</td>\n",
       "      <td>S</td>\n",
       "    </tr>\n",
       "    <tr>\n",
       "      <th>3</th>\n",
       "      <td>4</td>\n",
       "      <td>1</td>\n",
       "      <td>1</td>\n",
       "      <td>Futrelle, Mrs. Jacques Heath (Lily May Peel)</td>\n",
       "      <td>female</td>\n",
       "      <td>35.0</td>\n",
       "      <td>1</td>\n",
       "      <td>0</td>\n",
       "      <td>113803</td>\n",
       "      <td>53.1000</td>\n",
       "      <td>C123</td>\n",
       "      <td>S</td>\n",
       "    </tr>\n",
       "    <tr>\n",
       "      <th>4</th>\n",
       "      <td>5</td>\n",
       "      <td>0</td>\n",
       "      <td>3</td>\n",
       "      <td>Allen, Mr. William Henry</td>\n",
       "      <td>male</td>\n",
       "      <td>35.0</td>\n",
       "      <td>0</td>\n",
       "      <td>0</td>\n",
       "      <td>373450</td>\n",
       "      <td>8.0500</td>\n",
       "      <td>NaN</td>\n",
       "      <td>S</td>\n",
       "    </tr>\n",
       "  </tbody>\n",
       "</table>\n",
       "</div>"
      ],
      "text/plain": [
       "   PassengerId  Survived  Pclass  \\\n",
       "0            1         0       3   \n",
       "1            2         1       1   \n",
       "2            3         1       3   \n",
       "3            4         1       1   \n",
       "4            5         0       3   \n",
       "\n",
       "                                                Name     Sex   Age  SibSp  \\\n",
       "0                            Braund, Mr. Owen Harris    male  22.0      1   \n",
       "1  Cumings, Mrs. John Bradley (Florence Briggs Th...  female  38.0      1   \n",
       "2                             Heikkinen, Miss. Laina  female  26.0      0   \n",
       "3       Futrelle, Mrs. Jacques Heath (Lily May Peel)  female  35.0      1   \n",
       "4                           Allen, Mr. William Henry    male  35.0      0   \n",
       "\n",
       "   Parch            Ticket     Fare Cabin Embarked  \n",
       "0      0         A/5 21171   7.2500   NaN        S  \n",
       "1      0          PC 17599  71.2833   C85        C  \n",
       "2      0  STON/O2. 3101282   7.9250   NaN        S  \n",
       "3      0            113803  53.1000  C123        S  \n",
       "4      0            373450   8.0500   NaN        S  "
      ]
     },
     "execution_count": 49,
     "metadata": {},
     "output_type": "execute_result"
    }
   ],
   "source": [
    "Data.head()"
   ]
  },
  {
   "cell_type": "code",
   "execution_count": 50,
   "metadata": {},
   "outputs": [
    {
     "name": "stdout",
     "output_type": "stream",
     "text": [
      "train Set NA: \n",
      "PassengerId      0\n",
      "Survived         0\n",
      "Pclass           0\n",
      "Name             0\n",
      "Sex              0\n",
      "Age            177\n",
      "SibSp            0\n",
      "Parch            0\n",
      "Ticket           0\n",
      "Fare             0\n",
      "Cabin          687\n",
      "Embarked         2\n",
      "dtype: int64\n",
      "------------------------------------------\n",
      "test Set NA: \n",
      "PassengerId      0\n",
      "Pclass           0\n",
      "Name             0\n",
      "Sex              0\n",
      "Age             86\n",
      "SibSp            0\n",
      "Parch            0\n",
      "Ticket           0\n",
      "Fare             1\n",
      "Cabin          327\n",
      "Embarked         0\n",
      "dtype: int64\n",
      "------------------------------------------\n",
      "gender_submission NA: \n",
      "PassengerId    0\n",
      "Survived       0\n",
      "dtype: int64\n"
     ]
    }
   ],
   "source": [
    "# Missing value summary\n",
    "print('train Set NA: ')\n",
    "print(Data.isnull().sum())\n",
    "print('------------------------------------------')\n",
    "print('test Set NA: ')\n",
    "print(Data_test.isnull().sum())\n",
    "print('------------------------------------------')\n",
    "print('gender_submission NA: ')\n",
    "print(Data_test_survive.isnull().sum())"
   ]
  },
  {
   "cell_type": "markdown",
   "metadata": {},
   "source": [
    "At a first glance, we find:\n",
    "\n",
    "(1)There are some missing values in column 'Age' and 'Cabin' in both train and test table. Besides, there are 2 missing values in 'Embarked' column in train table and 1 missing value in 'Fare' in test table.\n",
    "\n",
    "(2)There are 12 columns in the train table, 11 columns in the test table and 2 columns in the 'gender_submission' table. 'PassengerId' column appears in all three tables. The column 'Survived' in 'gender_submission' table is the target variable of test set and the columns in 'test' table are the predictor variables of test set.\n",
    "\n",
    "Usually, we can use machine learning algorithms on train data and do the prediction and data evaluation on the test data. However, considering that there might be some potential information from 'Name' column, we need to split column 'Name' in both train and test datasets. So we plan to merge train and test set together and do spliting after data preprocessing."
   ]
  },
  {
   "cell_type": "code",
   "execution_count": 51,
   "metadata": {},
   "outputs": [
    {
     "name": "stdout",
     "output_type": "stream",
     "text": [
      "Test Set Dimension:  (418, 12)\n",
      "Whole Set Dimension:  (1309, 10)\n",
      "------------------------------------------\n",
      "Age             263\n",
      "Cabin          1014\n",
      "Embarked          2\n",
      "Fare              1\n",
      "Name              0\n",
      "Parch             0\n",
      "PassengerId       0\n",
      "Pclass            0\n",
      "Sex               0\n",
      "SibSp             0\n",
      "Survived          0\n",
      "Ticket            0\n",
      "dtype: int64\n"
     ]
    },
    {
     "name": "stderr",
     "output_type": "stream",
     "text": [
      "/Users/eluo/anaconda3/lib/python3.6/site-packages/pandas/core/frame.py:6201: FutureWarning: Sorting because non-concatenation axis is not aligned. A future version\n",
      "of pandas will change to not sort by default.\n",
      "\n",
      "To accept the future behavior, pass 'sort=True'.\n",
      "\n",
      "To retain the current behavior and silence the warning, pass sort=False\n",
      "\n",
      "  sort=sort)\n"
     ]
    },
    {
     "data": {
      "text/html": [
       "<div>\n",
       "<style scoped>\n",
       "    .dataframe tbody tr th:only-of-type {\n",
       "        vertical-align: middle;\n",
       "    }\n",
       "\n",
       "    .dataframe tbody tr th {\n",
       "        vertical-align: top;\n",
       "    }\n",
       "\n",
       "    .dataframe thead th {\n",
       "        text-align: right;\n",
       "    }\n",
       "</style>\n",
       "<table border=\"1\" class=\"dataframe\">\n",
       "  <thead>\n",
       "    <tr style=\"text-align: right;\">\n",
       "      <th></th>\n",
       "      <th>Age</th>\n",
       "      <th>Cabin</th>\n",
       "      <th>Embarked</th>\n",
       "      <th>Fare</th>\n",
       "      <th>Name</th>\n",
       "      <th>Parch</th>\n",
       "      <th>Pclass</th>\n",
       "      <th>Sex</th>\n",
       "      <th>SibSp</th>\n",
       "      <th>Survived</th>\n",
       "      <th>Ticket</th>\n",
       "    </tr>\n",
       "    <tr>\n",
       "      <th>PassengerId</th>\n",
       "      <th></th>\n",
       "      <th></th>\n",
       "      <th></th>\n",
       "      <th></th>\n",
       "      <th></th>\n",
       "      <th></th>\n",
       "      <th></th>\n",
       "      <th></th>\n",
       "      <th></th>\n",
       "      <th></th>\n",
       "      <th></th>\n",
       "    </tr>\n",
       "  </thead>\n",
       "  <tbody>\n",
       "    <tr>\n",
       "      <th>1</th>\n",
       "      <td>22.0</td>\n",
       "      <td>NaN</td>\n",
       "      <td>S</td>\n",
       "      <td>7.2500</td>\n",
       "      <td>Braund, Mr. Owen Harris</td>\n",
       "      <td>0</td>\n",
       "      <td>3</td>\n",
       "      <td>male</td>\n",
       "      <td>1</td>\n",
       "      <td>0</td>\n",
       "      <td>A/5 21171</td>\n",
       "    </tr>\n",
       "    <tr>\n",
       "      <th>2</th>\n",
       "      <td>38.0</td>\n",
       "      <td>C85</td>\n",
       "      <td>C</td>\n",
       "      <td>71.2833</td>\n",
       "      <td>Cumings, Mrs. John Bradley (Florence Briggs Th...</td>\n",
       "      <td>0</td>\n",
       "      <td>1</td>\n",
       "      <td>female</td>\n",
       "      <td>1</td>\n",
       "      <td>1</td>\n",
       "      <td>PC 17599</td>\n",
       "    </tr>\n",
       "    <tr>\n",
       "      <th>3</th>\n",
       "      <td>26.0</td>\n",
       "      <td>NaN</td>\n",
       "      <td>S</td>\n",
       "      <td>7.9250</td>\n",
       "      <td>Heikkinen, Miss. Laina</td>\n",
       "      <td>0</td>\n",
       "      <td>3</td>\n",
       "      <td>female</td>\n",
       "      <td>0</td>\n",
       "      <td>1</td>\n",
       "      <td>STON/O2. 3101282</td>\n",
       "    </tr>\n",
       "    <tr>\n",
       "      <th>4</th>\n",
       "      <td>35.0</td>\n",
       "      <td>C123</td>\n",
       "      <td>S</td>\n",
       "      <td>53.1000</td>\n",
       "      <td>Futrelle, Mrs. Jacques Heath (Lily May Peel)</td>\n",
       "      <td>0</td>\n",
       "      <td>1</td>\n",
       "      <td>female</td>\n",
       "      <td>1</td>\n",
       "      <td>1</td>\n",
       "      <td>113803</td>\n",
       "    </tr>\n",
       "    <tr>\n",
       "      <th>5</th>\n",
       "      <td>35.0</td>\n",
       "      <td>NaN</td>\n",
       "      <td>S</td>\n",
       "      <td>8.0500</td>\n",
       "      <td>Allen, Mr. William Henry</td>\n",
       "      <td>0</td>\n",
       "      <td>3</td>\n",
       "      <td>male</td>\n",
       "      <td>0</td>\n",
       "      <td>0</td>\n",
       "      <td>373450</td>\n",
       "    </tr>\n",
       "  </tbody>\n",
       "</table>\n",
       "</div>"
      ],
      "text/plain": [
       "              Age Cabin Embarked     Fare  \\\n",
       "PassengerId                                 \n",
       "1            22.0   NaN        S   7.2500   \n",
       "2            38.0   C85        C  71.2833   \n",
       "3            26.0   NaN        S   7.9250   \n",
       "4            35.0  C123        S  53.1000   \n",
       "5            35.0   NaN        S   8.0500   \n",
       "\n",
       "                                                          Name  Parch  Pclass  \\\n",
       "PassengerId                                                                     \n",
       "1                                      Braund, Mr. Owen Harris      0       3   \n",
       "2            Cumings, Mrs. John Bradley (Florence Briggs Th...      0       1   \n",
       "3                                       Heikkinen, Miss. Laina      0       3   \n",
       "4                 Futrelle, Mrs. Jacques Heath (Lily May Peel)      0       1   \n",
       "5                                     Allen, Mr. William Henry      0       3   \n",
       "\n",
       "                Sex  SibSp  Survived            Ticket  \n",
       "PassengerId                                             \n",
       "1              male      1         0         A/5 21171  \n",
       "2            female      1         1          PC 17599  \n",
       "3            female      0         1  STON/O2. 3101282  \n",
       "4            female      1         1            113803  \n",
       "5              male      0         0            373450  "
      ]
     },
     "execution_count": 51,
     "metadata": {},
     "output_type": "execute_result"
    }
   ],
   "source": [
    "# Data wrangling\n",
    "titanic_test = pd.merge(Data_test, Data_test_survive, how ='outer', on = 'PassengerId')\n",
    "print('Test Set Dimension: ',titanic_test.shape)\n",
    "\n",
    "Test_Id = titanic_test['PassengerId']\n",
    "\n",
    "Titanic0 = Data.append(titanic_test)\n",
    "print('Whole Set Dimension: ',Titanic.shape)\n",
    "print('------------------------------------------')\n",
    "print(Titanic0.isnull().sum())\n",
    "\n",
    "#cols = Titanic0.columns.tolist()\n",
    "#cols.insert(0, cols.pop(cols.index('PassengerId')))\n",
    "#Titanic = Titanic0.reindex(columns= cols)\n",
    "Titanic0 = Titanic0.set_index('PassengerId')\n",
    "Titanic0.head()"
   ]
  },
  {
   "cell_type": "markdown",
   "metadata": {},
   "source": [
    "### 1.2 Feature Engineering and Data visualzation\n",
    "The whole dataset has 1309 rows, which equals to the sum of the rows from train set(891) and test set(418). It means no coincident passengerId in two sets. \n",
    "\n",
    "After simple data wrangling, let's take a look at the titanic table again. There are 12 columns in this table:\n",
    "##### Target variable:\n",
    "* Survived: Survived (1) or died (0)\n",
    "\n",
    "##### Predictor variables:\n",
    "* Cabin: Cabin number\n",
    "* Embarked: Port of Embarkation(C = Cherbourg, Q = Queenstown, S = Southampton)\n",
    "* Fare: Passenger fare\n",
    "* Parch: # of parents / children aboard the Titanic\n",
    "* Pclass: Ticket class(1 = 1st, 2 = 2nd, 3 = 3rd)\n",
    "* SibSp: # of siblings / spouses aboard the Titanic\n",
    "* Ticket: Ticket number\n",
    "\n",
    "In this section, we plan to do the following steps:\n",
    "\n",
    "(1) Split column 'Name' and extract a new column called 'Titles'. From the title column, we may get more information on the gender and age perspective\n",
    "\n",
    "(2) Variable 'Ticket' and 'Cabin' are obviously unuseful, we remove them from the table\n",
    "\n",
    "(3) Missing value processing\n",
    "\n",
    "(4) 'Parch' and 'SibSp' can combine together, we will create a new column called 'FamNum' to show the number of family members aboard the Titanic\n",
    "\n",
    "(5) Explore relationships between target variable and predictor variables using data visualization, get more useful information on how to deal with each type of features\n",
    "\n",
    "\n",
    "\n",
    "### 1.2.1 Extract Title column\n",
    "Variable 'Name' has titles such as 'Mr.','Mrs.','Miss.','Master.'. Extract titles from passenger names may be helpful."
   ]
  },
  {
   "cell_type": "code",
   "execution_count": 52,
   "metadata": {},
   "outputs": [
    {
     "name": "stdout",
     "output_type": "stream",
     "text": [
      "Title names:  ['Mr' 'Mrs' 'Miss' 'Master' 'Don' 'Rev' 'Dr' 'Mme' 'Ms' 'Major' 'Lady'\n",
      " 'Sir' 'Mlle' 'Col' 'Capt' 'Countess' 'Jonkheer' 'Dona']\n",
      "------------------------------------------------------\n"
     ]
    },
    {
     "data": {
      "image/png": "[encoded data removed]",
      "text/plain": [
       "<Figure size 1080x720 with 2 Axes>"
      ]
     },
     "metadata": {},
     "output_type": "display_data"
    }
   ],
   "source": [
    "# Define function to extract titles from passenger names\n",
    "def get_title(name):\n",
    "    title_search = re.search(' ([A-Za-z]+)\\.', name)\n",
    "    # If the title exists, extract and return it.\n",
    "    if title_search:\n",
    "        return title_search.group(1)\n",
    "    return \"\"\n",
    "# Create a new feature Title, containing the titles of passenger names\n",
    "Titanic0['Title'] = Titanic0['Name'].apply(get_title)\n",
    "print('Title names: ',Titanic0['Title'].unique())\n",
    "print('------------------------------------------------------')\n",
    "\n",
    "f,ax=plt.subplots(2,1,figsize=(15,10))\n",
    "sns.countplot('Title',data=Titanic0,ax=ax[0])\n",
    "ax[0].set_title('Boxplot of Title')\n",
    "sns.countplot('Title',hue='Pclass',data=Titanic0,ax=ax[1])\n",
    "plt.legend(loc='upper right')\n",
    "ax[1].set_title('Title VS Pclass')\n",
    "plt.show()"
   ]
  },
  {
   "cell_type": "markdown",
   "metadata": {},
   "source": [
    "From the boxplot above, we find most passengers are called using 4 titles 'Mr' 'Mrs' 'Miss' 'Master', we consider to group all non-common titles into 'Others' group. Meanwhile, there are some synonyms, such as 'Ms' 'Miss' and 'Mme' are the same as 'Mrs'. we need to convert them into the same titles."
   ]
  },
  {
   "cell_type": "code",
   "execution_count": 53,
   "metadata": {},
   "outputs": [
    {
     "data": {
      "text/plain": [
       "<matplotlib.axes._subplots.AxesSubplot at 0x10dff16a0>"
      ]
     },
     "execution_count": 53,
     "metadata": {},
     "output_type": "execute_result"
    },
    {
     "data": {
      "image/png": "[encoded data removed]",
      "text/plain": [
       "<Figure size 432x288 with 1 Axes>"
      ]
     },
     "metadata": {},
     "output_type": "display_data"
    }
   ],
   "source": [
    "Titanic0['Title'] = Titanic0['Title'].replace(['Don','Rev','Dr','Major','Lady','Sir','Col','Capt','Countess','Jonkheer','Dona'], 'Others')\n",
    "Titanic0['Title'] = Titanic0['Title'].replace('Mlle', 'Miss')\n",
    "Titanic0['Title'] = Titanic0['Title'].replace('Ms', 'Miss')\n",
    "Titanic0['Title'] = Titanic0['Title'].replace('Mme', 'Mrs')\n",
    "sns.countplot('Title',data=Titanic0)"
   ]
  },
  {
   "cell_type": "markdown",
   "metadata": {},
   "source": [
    "### 1.2.2 Remove unuseful variables"
   ]
  },
  {
   "cell_type": "code",
   "execution_count": 54,
   "metadata": {},
   "outputs": [
    {
     "data": {
      "text/html": [
       "<div>\n",
       "<style scoped>\n",
       "    .dataframe tbody tr th:only-of-type {\n",
       "        vertical-align: middle;\n",
       "    }\n",
       "\n",
       "    .dataframe tbody tr th {\n",
       "        vertical-align: top;\n",
       "    }\n",
       "\n",
       "    .dataframe thead th {\n",
       "        text-align: right;\n",
       "    }\n",
       "</style>\n",
       "<table border=\"1\" class=\"dataframe\">\n",
       "  <thead>\n",
       "    <tr style=\"text-align: right;\">\n",
       "      <th></th>\n",
       "      <th>Age</th>\n",
       "      <th>Embarked</th>\n",
       "      <th>Fare</th>\n",
       "      <th>Parch</th>\n",
       "      <th>Pclass</th>\n",
       "      <th>Sex</th>\n",
       "      <th>SibSp</th>\n",
       "      <th>Survived</th>\n",
       "      <th>Title</th>\n",
       "    </tr>\n",
       "    <tr>\n",
       "      <th>PassengerId</th>\n",
       "      <th></th>\n",
       "      <th></th>\n",
       "      <th></th>\n",
       "      <th></th>\n",
       "      <th></th>\n",
       "      <th></th>\n",
       "      <th></th>\n",
       "      <th></th>\n",
       "      <th></th>\n",
       "    </tr>\n",
       "  </thead>\n",
       "  <tbody>\n",
       "    <tr>\n",
       "      <th>1</th>\n",
       "      <td>22.0</td>\n",
       "      <td>S</td>\n",
       "      <td>7.2500</td>\n",
       "      <td>0</td>\n",
       "      <td>3</td>\n",
       "      <td>male</td>\n",
       "      <td>1</td>\n",
       "      <td>0</td>\n",
       "      <td>Mr</td>\n",
       "    </tr>\n",
       "    <tr>\n",
       "      <th>2</th>\n",
       "      <td>38.0</td>\n",
       "      <td>C</td>\n",
       "      <td>71.2833</td>\n",
       "      <td>0</td>\n",
       "      <td>1</td>\n",
       "      <td>female</td>\n",
       "      <td>1</td>\n",
       "      <td>1</td>\n",
       "      <td>Mrs</td>\n",
       "    </tr>\n",
       "    <tr>\n",
       "      <th>3</th>\n",
       "      <td>26.0</td>\n",
       "      <td>S</td>\n",
       "      <td>7.9250</td>\n",
       "      <td>0</td>\n",
       "      <td>3</td>\n",
       "      <td>female</td>\n",
       "      <td>0</td>\n",
       "      <td>1</td>\n",
       "      <td>Miss</td>\n",
       "    </tr>\n",
       "    <tr>\n",
       "      <th>4</th>\n",
       "      <td>35.0</td>\n",
       "      <td>S</td>\n",
       "      <td>53.1000</td>\n",
       "      <td>0</td>\n",
       "      <td>1</td>\n",
       "      <td>female</td>\n",
       "      <td>1</td>\n",
       "      <td>1</td>\n",
       "      <td>Mrs</td>\n",
       "    </tr>\n",
       "    <tr>\n",
       "      <th>5</th>\n",
       "      <td>35.0</td>\n",
       "      <td>S</td>\n",
       "      <td>8.0500</td>\n",
       "      <td>0</td>\n",
       "      <td>3</td>\n",
       "      <td>male</td>\n",
       "      <td>0</td>\n",
       "      <td>0</td>\n",
       "      <td>Mr</td>\n",
       "    </tr>\n",
       "  </tbody>\n",
       "</table>\n",
       "</div>"
      ],
      "text/plain": [
       "              Age Embarked     Fare  Parch  Pclass     Sex  SibSp  Survived  \\\n",
       "PassengerId                                                                   \n",
       "1            22.0        S   7.2500      0       3    male      1         0   \n",
       "2            38.0        C  71.2833      0       1  female      1         1   \n",
       "3            26.0        S   7.9250      0       3  female      0         1   \n",
       "4            35.0        S  53.1000      0       1  female      1         1   \n",
       "5            35.0        S   8.0500      0       3    male      0         0   \n",
       "\n",
       "            Title  \n",
       "PassengerId        \n",
       "1              Mr  \n",
       "2             Mrs  \n",
       "3            Miss  \n",
       "4             Mrs  \n",
       "5              Mr  "
      ]
     },
     "execution_count": 54,
     "metadata": {},
     "output_type": "execute_result"
    }
   ],
   "source": [
    "#print(Titanic0[['Cabin','Pclass','Fare']][Titanic0['Cabin'].notnull()].loc[Titanic0['Pclass'] == 1])\n",
    "#print('-----------------------------------------------')\n",
    "#print(Titanic0[['Cabin','Pclass','Fare']][Titanic0['Cabin'].notnull()].loc[Titanic0['Pclass'] == 2])\n",
    "#print('-----------------------------------------------')\n",
    "#print(Titanic0[['Cabin','Pclass','Fare']][Titanic0['Cabin'].notnull()].loc[Titanic0['Pclass'] == 3])\n",
    "Titanic = Titanic0.drop(['Cabin','Ticket','Name'],axis = 1)\n",
    "Titanic.head()"
   ]
  },
  {
   "cell_type": "markdown",
   "metadata": {},
   "source": [
    "OK, right now, Let's split Titanic data into training set and test set. Do all exploration on both sets, and do training on train set, comparing the models using evaluation results from test set."
   ]
  },
  {
   "cell_type": "code",
   "execution_count": 55,
   "metadata": {},
   "outputs": [],
   "source": [
    "#Testset = Titanic.loc[Titanic.index.isin(Test_Id.tolist())]\n",
    "#Trainset = Titanic.loc[~Titanic.index.isin(Test_Id.tolist())]\n",
    "#Testset.shape#418 10\n",
    "#Trainset.shape#891 10\n",
    "#Testset.head()"
   ]
  },
  {
   "cell_type": "markdown",
   "metadata": {},
   "source": [
    "### 1.2.3 Missing value processing\n",
    "In previous section, we detect that there are 177 missing values in column 'Age', 687 missing values in 'Cabin', 2 in 'Embarked' and 1 in 'Fare'. As we remove 'Cabin' from dataset, we just consider the NA problem on three features left. We have several methods to fix NA problem:\n",
    "\n",
    "(1) Remove rows with NA: This method is not very effective, unless the tuple contains several attributes with missing values. By ignoring the tuple, we do not make use of the remaining attributes’ values in the tuple. \n",
    "\n",
    "(2) Fill in the missing value manually:\n",
    "In general, this approach is time consuming and may not be feasible given a large data set with many missing values.\n",
    "\n",
    "(3) Fill NA with some values, such as choosing mean, median, mode to fill in the blank: For normal (symmetric) data dis- tributions, the mean can be used, while skewed data distribution should employ the median\n",
    "\n",
    "(4) Use the attribute mean or median for all samples belonging to the same class\n",
    "\n",
    "(5) Determine missing value using ML tools such as regression and Bayesian inference: predict missing values with machine learning. https://stackoverflow.com/questions/40996051/predict-na-missing-values-with-machine-learning\n",
    "\n",
    "Which method should we use? It depends. "
   ]
  },
  {
   "cell_type": "code",
   "execution_count": 56,
   "metadata": {},
   "outputs": [
    {
     "data": {
      "image/png": "[encoded data removed]",
      "text/plain": [
       "<Figure size 432x288 with 1 Axes>"
      ]
     },
     "metadata": {},
     "output_type": "display_data"
    },
    {
     "name": "stdout",
     "output_type": "stream",
     "text": [
      "Because just 2 missing values in \"Embarked\" column, no matter what we fill the missing values, it will not occur big mistake. So we use the name of port which has the largest amount of passengers: Southampton(S) to fill in the blank\n",
      "--------------------------------------\n",
      "Number of NA now: 0\n"
     ]
    }
   ],
   "source": [
    "# For 'Embarked' column\n",
    "f,ax=plt.subplots(figsize=(6,4))\n",
    "sns.countplot('Embarked',data=Titanic)\n",
    "plt.show()\n",
    "print('Because just 2 missing values in \"Embarked\" column, no matter what we fill the missing values, it will not occur big mistake. So we use the name of port which has the largest amount of passengers: Southampton(S) to fill in the blank')\n",
    "Titanic['Embarked'].fillna('S',inplace=True)\n",
    "print('--------------------------------------')\n",
    "print('Number of NA now:',Titanic[\"Embarked\"].isnull().sum())"
   ]
  },
  {
   "cell_type": "code",
   "execution_count": 58,
   "metadata": {},
   "outputs": [
    {
     "name": "stdout",
     "output_type": "stream",
     "text": [
      "Just 1 missing value in \"Fare\" column.  After checking the histogram, we find a right-skewness. To fill in blank, using median seems to be a good idea\n",
      "--------------------------------------\n",
      "Number of NA now: 0\n"
     ]
    },
    {
     "data": {
      "image/png": "[encoded data removed]",
      "text/plain": [
       "<Figure size 576x432 with 1 Axes>"
      ]
     },
     "metadata": {},
     "output_type": "display_data"
    }
   ],
   "source": [
    "# For 'Fare' column\n",
    "Titanic['Fare'].hist(bins = 50,figsize=(8,6))\n",
    "print('Just 1 missing value in \"Fare\" column.  After checking the histogram, we find a right-skewness. To fill in blank, using median seems to be a good idea')\n",
    "Titanic[\"Fare\"].fillna(Titanic[\"Fare\"].median(), inplace=True)\n",
    "print('--------------------------------------')\n",
    "print('Number of NA now:',Titanic[\"Fare\"].isnull().sum())"
   ]
  },
  {
   "cell_type": "code",
   "execution_count": 61,
   "metadata": {},
   "outputs": [
    {
     "name": "stdout",
     "output_type": "stream",
     "text": [
      "There are 177 missing values in Age column, it is not a small number. We cannot simply remove these rows. Let's check boxplot first:\n"
     ]
    },
    {
     "data": {
      "text/plain": [
       "<matplotlib.axes._subplots.AxesSubplot at 0x1a21657e80>"
      ]
     },
     "execution_count": 61,
     "metadata": {},
     "output_type": "execute_result"
    },
    {
     "data": {
      "image/png": "[encoded data removed]",
      "text/plain": [
       "<Figure size 576x432 with 1 Axes>"
      ]
     },
     "metadata": {},
     "output_type": "display_data"
    }
   ],
   "source": [
    "# For 'Age' column\n",
    "print(\"There are 177 missing values in Age column, it is not a small number. We cannot simply remove these rows. Let's check boxplot first:\" )\n",
    "Titanic['Age'].hist(bins = 50,figsize=(8,6))\n"
   ]
  },
  {
   "cell_type": "code",
   "execution_count": 22,
   "metadata": {},
   "outputs": [
    {
     "data": {
      "text/plain": [
       "<Figure size 432x288 with 0 Axes>"
      ]
     },
     "execution_count": 22,
     "metadata": {},
     "output_type": "execute_result"
    },
    {
     "data": {
      "image/png": "[encoded data removed]",
      "text/plain": [
       "<Figure size 720x576 with 8 Axes>"
      ]
     },
     "metadata": {},
     "output_type": "display_data"
    },
    {
     "data": {
      "text/plain": [
       "<Figure size 432x288 with 0 Axes>"
      ]
     },
     "metadata": {},
     "output_type": "display_data"
    }
   ],
   "source": [
    "#Titanic.plot(kind='box', subplots=True, layout=(2,4), sharex=False, sharey=False, figsize=(10,8))\n",
    "#plt.figure()"
   ]
  },
  {
   "cell_type": "code",
   "execution_count": 418,
   "metadata": {},
   "outputs": [
    {
     "name": "stderr",
     "output_type": "stream",
     "text": [
      "/Users/eluo/anaconda3/lib/python3.6/site-packages/numpy/lib/function_base.py:4291: RuntimeWarning: Invalid value encountered in percentile\n",
      "  interpolation=interpolation)\n",
      "/Users/eluo/anaconda3/lib/python3.6/site-packages/matplotlib/cbook/__init__.py:1872: RuntimeWarning: invalid value encountered in less_equal\n",
      "  wiskhi = np.compress(x <= hival, x)\n",
      "/Users/eluo/anaconda3/lib/python3.6/site-packages/matplotlib/cbook/__init__.py:1879: RuntimeWarning: invalid value encountered in greater_equal\n",
      "  wisklo = np.compress(x >= loval, x)\n",
      "/Users/eluo/anaconda3/lib/python3.6/site-packages/matplotlib/cbook/__init__.py:1887: RuntimeWarning: invalid value encountered in less\n",
      "  np.compress(x < stats['whislo'], x),\n",
      "/Users/eluo/anaconda3/lib/python3.6/site-packages/matplotlib/cbook/__init__.py:1888: RuntimeWarning: invalid value encountered in greater\n",
      "  np.compress(x > stats['whishi'], x)\n"
     ]
    },
    {
     "data": {
      "image/png": "[encoded data removed]",
      "text/plain": [
       "<Figure size 432x288 with 1 Axes>"
      ]
     },
     "metadata": {},
     "output_type": "display_data"
    }
   ],
   "source": [
    "f,ax=plt.subplots(figsize=(6,4))\n",
    "plt.boxplot(x=Titanic['Fare'], showmeans = True, meanline = True)\n",
    "plt.show()"
   ]
  },
  {
   "cell_type": "markdown",
   "metadata": {},
   "source": [
    "### 1.2.5 Explore data using data visualization"
   ]
  },
  {
   "cell_type": "markdown",
   "metadata": {},
   "source": [
    "Titanic tragedy is one of the deadiest sinking disaster in our history. Looking at the pie plot of 'Survived' column from whole dataset, train and test set, we can see: Just 37.7% of passengers survived in the whole set, 38.4% in train set and 36.4% in test set."
   ]
  },
  {
   "cell_type": "code",
   "execution_count": 369,
   "metadata": {},
   "outputs": [
    {
     "data": {
      "image/png": "[encoded data removed]",
      "text/plain": [
       "<Figure size 288x216 with 1 Axes>"
      ]
     },
     "metadata": {},
     "output_type": "display_data"
    }
   ],
   "source": [
    "#f,ax=plt.subplots(1,3,figsize=(15,3))\n",
    "f,ax=plt.subplots(figsize=(4,3))\n",
    "#Titanic['Survived'].value_counts().plot.pie(explode=[0,0.1],ax = ax[0],autopct='%1.1f%%',shadow=True)\n",
    "Titanic['Survived'].value_counts().plot.pie(explode=[0,0.1],autopct='%1.1f%%',shadow=True)\n",
    "#ax[0].set_title('Whole Set')\n",
    "ax.set_title('Whole Set')\n",
    "#Trainset['Survived'].value_counts().plot.pie(explode=[0,0.1],ax = ax[1],autopct='%1.1f%%',shadow=True)\n",
    "#ax[1].set_title('Train Set')\n",
    "#Testset['Survived'].value_counts().plot.pie(explode=[0,0.1],ax = ax[2],autopct='%1.1f%%',shadow=True)\n",
    "#ax[2].set_title('Test Set')\n",
    "plt.show()"
   ]
  },
  {
   "cell_type": "markdown",
   "metadata": {},
   "source": [
    "It is evident that not many passengers survived the accident. We need to dig down more to get better insights from the data and see which categories of the passengers did survive and who didn't. We will try to check the survival rate by using the different features of the dataset. Some of the features being Sex, Port Of Embarcation, Age,etc. We plan to deal with them based on different feature types: continuous, ordinary or categorical.\n",
    "\n",
    "#### Categorical Features: \n",
    "These features have several categories, we cannot sort the categories by deciding which category is larger/better than others. 'Sex','Title','Embarked' are categorical features obviously. \n",
    "\n",
    "#### Continuous Features: \n",
    "A feature is said to be continous if it can take values between any two points or between the minimum or maximum values in the features column, such as 'Age' \n",
    "\n",
    "#### Ordinary Features: \n",
    "There are several categories which can be sorted, for example 'Pclass'.\n",
    "\n",
    "Let's create some plots to show which kind of passengers will have more opportunity to survive in this horrible disaster."
   ]
  },
  {
   "cell_type": "code",
   "execution_count": 382,
   "metadata": {},
   "outputs": [
    {
     "name": "stdout",
     "output_type": "stream",
     "text": [
      "Contigency Table Survived VS Sex Whole Dataset\n",
      "Survived    0    1\n",
      "Sex               \n",
      "female     81  385\n",
      "male      734  109\n",
      "----------------------------------------------\n"
     ]
    },
    {
     "name": "stderr",
     "output_type": "stream",
     "text": [
      "No handles with labels found to put in legend.\n"
     ]
    },
    {
     "data": {
      "image/png": "[encoded data removed]",
      "text/plain": [
       "<Figure size 1152x864 with 4 Axes>"
      ]
     },
     "metadata": {},
     "output_type": "display_data"
    }
   ],
   "source": [
    "# Categorical Features: Sex\n",
    "print('Contigency Table Survived VS Sex Whole Dataset')\n",
    "SuvVSSex = pd.crosstab(Titanic['Sex'],Titanic['Survived'])\n",
    "print(SuvVSSex)\n",
    "Prob = Titanic[['Sex','Survived']].groupby('Sex').mean()\n",
    "print('----------------------------------------------')\n",
    "\n",
    "f,ax=plt.subplots(2,2,figsize=(16,12))\n",
    "Prob.plot.bar(ax = ax[0,0])\n",
    "ax[0,0].set_title('Survival Probability',fontsize=17)\n",
    "ax[0,0].set_ylabel('Probability')\n",
    "ax[0,0].set_xlabel('Sex')\n",
    "rects = ax[0,0].patches\n",
    "labels0 = Prob['Survived'].tolist()\n",
    "labels1 = [ '%.2f' % elem for elem in labels0 ]\n",
    "labels = [float(elem) for elem in labels1 ]\n",
    "for rect, label in zip(rects, labels):\n",
    "    height = rect.get_height()\n",
    "    ax[0,0].text(rect.get_x() + rect.get_width() / 2, height-0.1, label,ha='center', va='bottom',fontsize=15,color = 'white')\n",
    "ax[0,0].get_legend().remove()\n",
    "\n",
    "SuvVSSex.plot.bar(stacked=True,ax = ax[0,1])\n",
    "plt.legend(loc = 2)\n",
    "ax[0,1].set_title('Stacked Barplot Survived VS Sex',fontsize=17)\n",
    "ax[0,1].set_ylabel('Count')\n",
    "ax[0,1].set_xlabel('Sex')\n",
    "\n",
    "sns.barplot(x = 'Sex', y = 'Survived', hue = 'Embarked', data=Titanic, ax = ax[1,0])\n",
    "ax[1,0].set_title('Sex vs Embarked Survival Comparison',fontsize = 17)\n",
    "\n",
    "sns.barplot(x = 'Sex', y = 'Survived', hue = 'Pclass', data=Titanic, ax  = ax[1,1])\n",
    "ax[1,1].set_title('Sex vs Pclass Survival Comparison',fontsize = 17)\n",
    "\n",
    "for ax in f.axes:\n",
    "    plt.sca(ax)\n",
    "    plt.xticks(rotation=0,fontsize = 12)\n",
    "    ax.spines['top'].set_visible(False)\n",
    "    ax.spines['right'].set_visible(False)\n",
    "\n",
    "plt.show()"
   ]
  },
  {
   "cell_type": "code",
   "execution_count": 407,
   "metadata": {},
   "outputs": [
    {
     "name": "stdout",
     "output_type": "stream",
     "text": [
      "Sex vs Embarked Survival Contigency Table\n"
     ]
    },
    {
     "data": {
      "text/html": [
       "<style  type=\"text/css\" >\n",
       "    #T_efea80ac_f2cf_11e8_b069_784f438f682crow0_col0 {\n",
       "            background-color:  #ffff66;\n",
       "        }    #T_efea80ac_f2cf_11e8_b069_784f438f682crow0_col1 {\n",
       "            background-color:  #f3f966;\n",
       "        }    #T_efea80ac_f2cf_11e8_b069_784f438f682crow0_col2 {\n",
       "            background-color:  #ffff66;\n",
       "        }    #T_efea80ac_f2cf_11e8_b069_784f438f682crow0_col3 {\n",
       "            background-color:  #ffff66;\n",
       "        }    #T_efea80ac_f2cf_11e8_b069_784f438f682crow1_col0 {\n",
       "            background-color:  #a2d066;\n",
       "        }    #T_efea80ac_f2cf_11e8_b069_784f438f682crow1_col1 {\n",
       "            background-color:  #99cc66;\n",
       "        }    #T_efea80ac_f2cf_11e8_b069_784f438f682crow1_col2 {\n",
       "            background-color:  #cee666;\n",
       "        }    #T_efea80ac_f2cf_11e8_b069_784f438f682crow1_col3 {\n",
       "            background-color:  #c0e066;\n",
       "        }    #T_efea80ac_f2cf_11e8_b069_784f438f682crow2_col0 {\n",
       "            background-color:  #8bc566;\n",
       "        }    #T_efea80ac_f2cf_11e8_b069_784f438f682crow2_col1 {\n",
       "            background-color:  #86c266;\n",
       "        }    #T_efea80ac_f2cf_11e8_b069_784f438f682crow2_col2 {\n",
       "            background-color:  #6eb666;\n",
       "        }    #T_efea80ac_f2cf_11e8_b069_784f438f682crow2_col3 {\n",
       "            background-color:  #77bb66;\n",
       "        }    #T_efea80ac_f2cf_11e8_b069_784f438f682crow3_col0 {\n",
       "            background-color:  #ecf666;\n",
       "        }    #T_efea80ac_f2cf_11e8_b069_784f438f682crow3_col1 {\n",
       "            background-color:  #ffff66;\n",
       "        }    #T_efea80ac_f2cf_11e8_b069_784f438f682crow3_col2 {\n",
       "            background-color:  #fbfd66;\n",
       "        }    #T_efea80ac_f2cf_11e8_b069_784f438f682crow3_col3 {\n",
       "            background-color:  #fafc66;\n",
       "        }    #T_efea80ac_f2cf_11e8_b069_784f438f682crow4_col0 {\n",
       "            background-color:  #008066;\n",
       "        }    #T_efea80ac_f2cf_11e8_b069_784f438f682crow4_col1 {\n",
       "            background-color:  #008066;\n",
       "        }    #T_efea80ac_f2cf_11e8_b069_784f438f682crow4_col2 {\n",
       "            background-color:  #008066;\n",
       "        }    #T_efea80ac_f2cf_11e8_b069_784f438f682crow4_col3 {\n",
       "            background-color:  #008066;\n",
       "        }</style>  \n",
       "<table id=\"T_efea80ac_f2cf_11e8_b069_784f438f682c\" > \n",
       "<thead>    <tr> \n",
       "        <th class=\"blank\" ></th> \n",
       "        <th class=\"index_name level0\" >Embarked</th> \n",
       "        <th class=\"col_heading level0 col0\" >C</th> \n",
       "        <th class=\"col_heading level0 col1\" >Q</th> \n",
       "        <th class=\"col_heading level0 col2\" >S</th> \n",
       "        <th class=\"col_heading level0 col3\" >All</th> \n",
       "    </tr>    <tr> \n",
       "        <th class=\"index_name level0\" >Sex</th> \n",
       "        <th class=\"index_name level1\" >Survived</th> \n",
       "        <th class=\"blank\" ></th> \n",
       "        <th class=\"blank\" ></th> \n",
       "        <th class=\"blank\" ></th> \n",
       "        <th class=\"blank\" ></th> \n",
       "    </tr></thead> \n",
       "<tbody>    <tr> \n",
       "        <th id=\"T_efea80ac_f2cf_11e8_b069_784f438f682clevel0_row0\" class=\"row_heading level0 row0\" rowspan=2>female</th> \n",
       "        <th id=\"T_efea80ac_f2cf_11e8_b069_784f438f682clevel1_row0\" class=\"row_heading level1 row0\" >0</th> \n",
       "        <td id=\"T_efea80ac_f2cf_11e8_b069_784f438f682crow0_col0\" class=\"data row0 col0\" >9</td> \n",
       "        <td id=\"T_efea80ac_f2cf_11e8_b069_784f438f682crow0_col1\" class=\"data row0 col1\" >9</td> \n",
       "        <td id=\"T_efea80ac_f2cf_11e8_b069_784f438f682crow0_col2\" class=\"data row0 col2\" >63</td> \n",
       "        <td id=\"T_efea80ac_f2cf_11e8_b069_784f438f682crow0_col3\" class=\"data row0 col3\" >81</td> \n",
       "    </tr>    <tr> \n",
       "        <th id=\"T_efea80ac_f2cf_11e8_b069_784f438f682clevel1_row1\" class=\"row_heading level1 row1\" >1</th> \n",
       "        <td id=\"T_efea80ac_f2cf_11e8_b069_784f438f682crow1_col0\" class=\"data row1 col0\" >104</td> \n",
       "        <td id=\"T_efea80ac_f2cf_11e8_b069_784f438f682crow1_col1\" class=\"data row1 col1\" >51</td> \n",
       "        <td id=\"T_efea80ac_f2cf_11e8_b069_784f438f682crow1_col2\" class=\"data row1 col2\" >228</td> \n",
       "        <td id=\"T_efea80ac_f2cf_11e8_b069_784f438f682crow1_col3\" class=\"data row1 col3\" >383</td> \n",
       "    </tr>    <tr> \n",
       "        <th id=\"T_efea80ac_f2cf_11e8_b069_784f438f682clevel0_row2\" class=\"row_heading level0 row2\" rowspan=2>male</th> \n",
       "        <th id=\"T_efea80ac_f2cf_11e8_b069_784f438f682clevel1_row2\" class=\"row_heading level1 row2\" >0</th> \n",
       "        <td id=\"T_efea80ac_f2cf_11e8_b069_784f438f682crow2_col0\" class=\"data row2 col0\" >128</td> \n",
       "        <td id=\"T_efea80ac_f2cf_11e8_b069_784f438f682crow2_col1\" class=\"data row2 col1\" >60</td> \n",
       "        <td id=\"T_efea80ac_f2cf_11e8_b069_784f438f682crow2_col2\" class=\"data row2 col2\" >546</td> \n",
       "        <td id=\"T_efea80ac_f2cf_11e8_b069_784f438f682crow2_col3\" class=\"data row2 col3\" >734</td> \n",
       "    </tr>    <tr> \n",
       "        <th id=\"T_efea80ac_f2cf_11e8_b069_784f438f682clevel1_row3\" class=\"row_heading level1 row3\" >1</th> \n",
       "        <td id=\"T_efea80ac_f2cf_11e8_b069_784f438f682crow3_col0\" class=\"data row3 col0\" >29</td> \n",
       "        <td id=\"T_efea80ac_f2cf_11e8_b069_784f438f682crow3_col1\" class=\"data row3 col1\" >3</td> \n",
       "        <td id=\"T_efea80ac_f2cf_11e8_b069_784f438f682crow3_col2\" class=\"data row3 col2\" >77</td> \n",
       "        <td id=\"T_efea80ac_f2cf_11e8_b069_784f438f682crow3_col3\" class=\"data row3 col3\" >109</td> \n",
       "    </tr>    <tr> \n",
       "        <th id=\"T_efea80ac_f2cf_11e8_b069_784f438f682clevel0_row4\" class=\"row_heading level0 row4\" >All</th> \n",
       "        <th id=\"T_efea80ac_f2cf_11e8_b069_784f438f682clevel1_row4\" class=\"row_heading level1 row4\" ></th> \n",
       "        <td id=\"T_efea80ac_f2cf_11e8_b069_784f438f682crow4_col0\" class=\"data row4 col0\" >270</td> \n",
       "        <td id=\"T_efea80ac_f2cf_11e8_b069_784f438f682crow4_col1\" class=\"data row4 col1\" >123</td> \n",
       "        <td id=\"T_efea80ac_f2cf_11e8_b069_784f438f682crow4_col2\" class=\"data row4 col2\" >914</td> \n",
       "        <td id=\"T_efea80ac_f2cf_11e8_b069_784f438f682crow4_col3\" class=\"data row4 col3\" >1307</td> \n",
       "    </tr></tbody> \n",
       "</table> "
      ],
      "text/plain": [
       "<pandas.io.formats.style.Styler at 0x1a20de6e10>"
      ]
     },
     "metadata": {},
     "output_type": "display_data"
    },
    {
     "name": "stdout",
     "output_type": "stream",
     "text": [
      "----------------------------------------------\n",
      "Sex vs Pclass Survival Contigency Table\n"
     ]
    },
    {
     "data": {
      "text/html": [
       "<style  type=\"text/css\" >\n",
       "    #T_effdeb58_f2cf_11e8_aad1_784f438f682crow0_col0 {\n",
       "            background-color:  #ffff66;\n",
       "        }    #T_effdeb58_f2cf_11e8_aad1_784f438f682crow0_col1 {\n",
       "            background-color:  #ffff66;\n",
       "        }    #T_effdeb58_f2cf_11e8_aad1_784f438f682crow0_col2 {\n",
       "            background-color:  #f6fa66;\n",
       "        }    #T_effdeb58_f2cf_11e8_aad1_784f438f682crow0_col3 {\n",
       "            background-color:  #ffff66;\n",
       "        }    #T_effdeb58_f2cf_11e8_aad1_784f438f682crow1_col0 {\n",
       "            background-color:  #91c866;\n",
       "        }    #T_effdeb58_f2cf_11e8_aad1_784f438f682crow1_col1 {\n",
       "            background-color:  #a7d366;\n",
       "        }    #T_effdeb58_f2cf_11e8_aad1_784f438f682crow1_col2 {\n",
       "            background-color:  #daec66;\n",
       "        }    #T_effdeb58_f2cf_11e8_aad1_784f438f682crow1_col3 {\n",
       "            background-color:  #c0e066;\n",
       "        }    #T_effdeb58_f2cf_11e8_aad1_784f438f682crow2_col0 {\n",
       "            background-color:  #97cb66;\n",
       "        }    #T_effdeb58_f2cf_11e8_aad1_784f438f682crow2_col1 {\n",
       "            background-color:  #74ba66;\n",
       "        }    #T_effdeb58_f2cf_11e8_aad1_784f438f682crow2_col2 {\n",
       "            background-color:  #65b266;\n",
       "        }    #T_effdeb58_f2cf_11e8_aad1_784f438f682crow2_col3 {\n",
       "            background-color:  #77bb66;\n",
       "        }    #T_effdeb58_f2cf_11e8_aad1_784f438f682crow3_col0 {\n",
       "            background-color:  #deee66;\n",
       "        }    #T_effdeb58_f2cf_11e8_aad1_784f438f682crow3_col1 {\n",
       "            background-color:  #f5fa66;\n",
       "        }    #T_effdeb58_f2cf_11e8_aad1_784f438f682crow3_col2 {\n",
       "            background-color:  #ffff66;\n",
       "        }    #T_effdeb58_f2cf_11e8_aad1_784f438f682crow3_col3 {\n",
       "            background-color:  #fafc66;\n",
       "        }    #T_effdeb58_f2cf_11e8_aad1_784f438f682crow4_col0 {\n",
       "            background-color:  #008066;\n",
       "        }    #T_effdeb58_f2cf_11e8_aad1_784f438f682crow4_col1 {\n",
       "            background-color:  #008066;\n",
       "        }    #T_effdeb58_f2cf_11e8_aad1_784f438f682crow4_col2 {\n",
       "            background-color:  #008066;\n",
       "        }    #T_effdeb58_f2cf_11e8_aad1_784f438f682crow4_col3 {\n",
       "            background-color:  #008066;\n",
       "        }</style>  \n",
       "<table id=\"T_effdeb58_f2cf_11e8_aad1_784f438f682c\" > \n",
       "<thead>    <tr> \n",
       "        <th class=\"blank\" ></th> \n",
       "        <th class=\"index_name level0\" >Pclass</th> \n",
       "        <th class=\"col_heading level0 col0\" >1</th> \n",
       "        <th class=\"col_heading level0 col1\" >2</th> \n",
       "        <th class=\"col_heading level0 col2\" >3</th> \n",
       "        <th class=\"col_heading level0 col3\" >All</th> \n",
       "    </tr>    <tr> \n",
       "        <th class=\"index_name level0\" >Sex</th> \n",
       "        <th class=\"index_name level1\" >Survived</th> \n",
       "        <th class=\"blank\" ></th> \n",
       "        <th class=\"blank\" ></th> \n",
       "        <th class=\"blank\" ></th> \n",
       "        <th class=\"blank\" ></th> \n",
       "    </tr></thead> \n",
       "<tbody>    <tr> \n",
       "        <th id=\"T_effdeb58_f2cf_11e8_aad1_784f438f682clevel0_row0\" class=\"row_heading level0 row0\" rowspan=2>female</th> \n",
       "        <th id=\"T_effdeb58_f2cf_11e8_aad1_784f438f682clevel1_row0\" class=\"row_heading level1 row0\" >0</th> \n",
       "        <td id=\"T_effdeb58_f2cf_11e8_aad1_784f438f682crow0_col0\" class=\"data row0 col0\" >3</td> \n",
       "        <td id=\"T_effdeb58_f2cf_11e8_aad1_784f438f682crow0_col1\" class=\"data row0 col1\" >6</td> \n",
       "        <td id=\"T_effdeb58_f2cf_11e8_aad1_784f438f682crow0_col2\" class=\"data row0 col2\" >72</td> \n",
       "        <td id=\"T_effdeb58_f2cf_11e8_aad1_784f438f682crow0_col3\" class=\"data row0 col3\" >81</td> \n",
       "    </tr>    <tr> \n",
       "        <th id=\"T_effdeb58_f2cf_11e8_aad1_784f438f682clevel1_row1\" class=\"row_heading level1 row1\" >1</th> \n",
       "        <td id=\"T_effdeb58_f2cf_11e8_aad1_784f438f682crow1_col0\" class=\"data row1 col0\" >141</td> \n",
       "        <td id=\"T_effdeb58_f2cf_11e8_aad1_784f438f682crow1_col1\" class=\"data row1 col1\" >100</td> \n",
       "        <td id=\"T_effdeb58_f2cf_11e8_aad1_784f438f682crow1_col2\" class=\"data row1 col2\" >144</td> \n",
       "        <td id=\"T_effdeb58_f2cf_11e8_aad1_784f438f682crow1_col3\" class=\"data row1 col3\" >385</td> \n",
       "    </tr>    <tr> \n",
       "        <th id=\"T_effdeb58_f2cf_11e8_aad1_784f438f682clevel0_row2\" class=\"row_heading level0 row2\" rowspan=2>male</th> \n",
       "        <th id=\"T_effdeb58_f2cf_11e8_aad1_784f438f682clevel1_row2\" class=\"row_heading level1 row2\" >0</th> \n",
       "        <td id=\"T_effdeb58_f2cf_11e8_aad1_784f438f682crow2_col0\" class=\"data row2 col0\" >134</td> \n",
       "        <td id=\"T_effdeb58_f2cf_11e8_aad1_784f438f682crow2_col1\" class=\"data row2 col1\" >154</td> \n",
       "        <td id=\"T_effdeb58_f2cf_11e8_aad1_784f438f682crow2_col2\" class=\"data row2 col2\" >446</td> \n",
       "        <td id=\"T_effdeb58_f2cf_11e8_aad1_784f438f682crow2_col3\" class=\"data row2 col3\" >734</td> \n",
       "    </tr>    <tr> \n",
       "        <th id=\"T_effdeb58_f2cf_11e8_aad1_784f438f682clevel1_row3\" class=\"row_heading level1 row3\" >1</th> \n",
       "        <td id=\"T_effdeb58_f2cf_11e8_aad1_784f438f682crow3_col0\" class=\"data row3 col0\" >45</td> \n",
       "        <td id=\"T_effdeb58_f2cf_11e8_aad1_784f438f682crow3_col1\" class=\"data row3 col1\" >17</td> \n",
       "        <td id=\"T_effdeb58_f2cf_11e8_aad1_784f438f682crow3_col2\" class=\"data row3 col2\" >47</td> \n",
       "        <td id=\"T_effdeb58_f2cf_11e8_aad1_784f438f682crow3_col3\" class=\"data row3 col3\" >109</td> \n",
       "    </tr>    <tr> \n",
       "        <th id=\"T_effdeb58_f2cf_11e8_aad1_784f438f682clevel0_row4\" class=\"row_heading level0 row4\" >All</th> \n",
       "        <th id=\"T_effdeb58_f2cf_11e8_aad1_784f438f682clevel1_row4\" class=\"row_heading level1 row4\" ></th> \n",
       "        <td id=\"T_effdeb58_f2cf_11e8_aad1_784f438f682crow4_col0\" class=\"data row4 col0\" >323</td> \n",
       "        <td id=\"T_effdeb58_f2cf_11e8_aad1_784f438f682crow4_col1\" class=\"data row4 col1\" >277</td> \n",
       "        <td id=\"T_effdeb58_f2cf_11e8_aad1_784f438f682crow4_col2\" class=\"data row4 col2\" >709</td> \n",
       "        <td id=\"T_effdeb58_f2cf_11e8_aad1_784f438f682crow4_col3\" class=\"data row4 col3\" >1309</td> \n",
       "    </tr></tbody> \n",
       "</table> "
      ],
      "text/plain": [
       "<pandas.io.formats.style.Styler at 0x1a2065bfd0>"
      ]
     },
     "metadata": {},
     "output_type": "display_data"
    }
   ],
   "source": [
    "print('Sex vs Embarked Survival Contigency Table')\n",
    "Table1 = pd.crosstab([Titanic.Sex,Titanic.Survived],\n",
    "                     [Titanic.Embarked],margins=True)\n",
    "display(Table1.style.background_gradient(cmap='summer_r'))\n",
    "print('----------------------------------------------')\n",
    "print('Sex vs Pclass Survival Contigency Table')\n",
    "Table2 = pd.crosstab([Titanic.Sex,Titanic.Survived],\n",
    "                     [Titanic.Pclass],margins=True)\n",
    "display(Table2.style.background_gradient(cmap='summer_r'))\n",
    "#from IPython.display import display_html\n",
    "#def display_side_by_side(*args):\n",
    "#    html_str=''\n",
    "#    for df in args:\n",
    "#        html_str+=df.to_html()\n",
    "#    display_html(html_str.replace('table','table style=\"display:inline\"'),raw=True)\n",
    "#display_side_by_side(Table1,Table2)"
   ]
  },
  {
   "cell_type": "markdown",
   "metadata": {},
   "source": [
    "From the Contigency table and plots shown above, we have some interesting discovery:\n",
    "\n",
    "Firstly, the number of men is almost twice the number of women, however, the number of men saved is just one third of women saved. The percentage of survived women is 83% among all women, but the percentage of survived men is pretty low, just 13% male were saved. The result shows us that gentlemen in Titanic complied with the 'Ladies first' rule at the most critical juncture, most of them sacrificed themselves and gave the living opportunities to women.\n",
    "\n",
    "Secondly, if we add more features in contigency table like 'Embarked' and 'Pclass', we find:\n",
    "* Almost three quarters of passgengers in Titanic are from Southampton, most of them are male. There are 546 males from Southampton died, almost half of people."
   ]
  },
  {
   "cell_type": "code",
   "execution_count": null,
   "metadata": {},
   "outputs": [],
   "source": []
  },
  {
   "cell_type": "code",
   "execution_count": null,
   "metadata": {},
   "outputs": [],
   "source": [
    "# Categorical Features: Embarked"
   ]
  },
  {
   "cell_type": "code",
   "execution_count": null,
   "metadata": {},
   "outputs": [],
   "source": []
  },
  {
   "cell_type": "code",
   "execution_count": null,
   "metadata": {},
   "outputs": [],
   "source": []
  }
 ],
 "metadata": {
  "kernelspec": {
   "display_name": "Python 3",
   "language": "python",
   "name": "python3"
  },
  "language_info": {
   "codemirror_mode": {
    "name": "ipython",
    "version": 3
   },
   "file_extension": ".py",
   "mimetype": "text/x-python",
   "name": "python",
   "nbconvert_exporter": "python",
   "pygments_lexer": "ipython3",
   "version": "3.6.5"
  }
 },
 "nbformat": 4,
 "nbformat_minor": 2
}
